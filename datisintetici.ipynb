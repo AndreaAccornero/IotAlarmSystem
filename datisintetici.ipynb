{
 "cells": [
  {
   "cell_type": "code",
   "execution_count": null,
   "metadata": {},
   "outputs": [],
   "source": [
    "import requests\n",
    "import datetime\n",
    "import time\n",
    "\n",
    "server_url = \"http://localhost:5000/sensor_data\"\n",
    "\n",
    "# Funzione per generare timestamp con intervalli di 30 secondi per 5 minuti\n",
    "def generate_timestamps():\n",
    "    start_time = datetime.datetime.utcnow()\n",
    "    end_time = start_time + datetime.timedelta(minutes=5)\n",
    "    timestamps = []\n",
    "    current_time = start_time\n",
    "    while current_time <= end_time:\n",
    "        timestamps.append(current_time.isoformat() + \"Z\")  # Formato ISO 8601 UTC\n",
    "        current_time += datetime.timedelta(seconds=30)\n",
    "    return timestamps\n",
    "\n",
    "# Funzione per inviare dati sintetici\n",
    "\n",
    "def send_synthetic_data():\n",
    "    timestamps = generate_timestamps()\n",
    "    \n",
    "    for t in timestamps:\n",
    "        payload = {\"pressure_value\": 200, \"time_custom\": t}\n",
    "        response = requests.post(server_url, json=payload)\n",
    "        print(f\"Sent {payload} at {payload['time_custom']}, Response: {response.status_code}\")\n",
    "        time.sleep(0.01)\n",
    "\n",
    "# Invia i dati sintetici\n",
    "send_synthetic_data()\n"
   ]
  },
  {
   "cell_type": "code",
   "execution_count": null,
   "metadata": {},
   "outputs": [],
   "source": []
  }
 ],
 "metadata": {
  "kernelspec": {
   "display_name": "base",
   "language": "python",
   "name": "python3"
  },
  "language_info": {
   "codemirror_mode": {
    "name": "ipython",
    "version": 3
   },
   "file_extension": ".py",
   "mimetype": "text/x-python",
   "name": "python",
   "nbconvert_exporter": "python",
   "pygments_lexer": "ipython3",
   "version": "3.11.4"
  }
 },
 "nbformat": 4,
 "nbformat_minor": 2
}
