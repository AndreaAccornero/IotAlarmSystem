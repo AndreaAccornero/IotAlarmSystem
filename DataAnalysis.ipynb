{
 "cells": [
  {
   "cell_type": "code",
   "execution_count": 76,
   "metadata": {},
   "outputs": [
    {
     "name": "stdout",
     "output_type": "stream",
     "text": [
      "                                 time  value\n",
      "0    2025-01-30 16:52:48.984856+00:00   4095\n",
      "1    2025-01-30 16:52:49.011028+00:00   4095\n",
      "2    2025-01-30 16:52:49.020987+00:00   4095\n",
      "3    2025-01-30 16:52:49.036445+00:00   4095\n",
      "4    2025-01-30 16:52:49.057940+00:00   4095\n",
      "...                               ...    ...\n",
      "1317 2025-01-30 16:59:43.035502+00:00   4095\n",
      "1318 2025-01-30 16:59:43.054060+00:00   4095\n",
      "1319 2025-01-30 16:59:43.074008+00:00   4095\n",
      "1320 2025-01-30 16:59:43.091770+00:00   4095\n",
      "1321 2025-01-30 16:59:43.112483+00:00   4095\n",
      "\n",
      "[1322 rows x 2 columns]\n"
     ]
    }
   ],
   "source": [
    "from influxdb_client import InfluxDBClient\n",
    "import pandas as pd\n",
    "import os\n",
    "from IPython.display import Markdown\n",
    "import warnings\n",
    "\n",
    "warnings.filterwarnings(\"ignore\")\n",
    "\n",
    "# Configura la connessione a InfluxDB\n",
    "INFLUXDB_URL = \"http://localhost:8086\"\n",
    "TOKEN = os.getenv(\"token\")  # Assicurati che il token sia impostato correttamente\n",
    "ORG = \"IotAlarmSystem\"\n",
    "BUCKET = \"Prova\"\n",
    "\n",
    "client = InfluxDBClient(url=INFLUXDB_URL, token=TOKEN, org=ORG)\n",
    "query_api = client.query_api()\n",
    "\n",
    "# Query per recuperare i dati della pressione dall'ultima settimana\n",
    "query = f\"\"\"\n",
    "from(bucket: \"{BUCKET}\")\n",
    "|> range(start: -7d)\n",
    "|> filter(fn: (r) => r._measurement == \"pressure\")\n",
    "|> filter(fn: (r) => r._field == \"value\")\n",
    "|> keep(columns: [\"_time\", \"_value\"])\n",
    "\"\"\"\n",
    "\n",
    "result = query_api.query(query)\n",
    "data = []\n",
    "\n",
    "# Converti i risultati in un DataFrame\n",
    "for table in result:\n",
    "    for record in table.records:\n",
    "        data.append({\"time\": record[\"_time\"], \"value\": record[\"_value\"]})\n",
    "\n",
    "df = pd.DataFrame(data)\n",
    "\n",
    "# Se il DataFrame è vuoto, mostra un messaggio\n",
    "if df.empty:\n",
    "    print(\"Nessun dato trovato in InfluxDB.\")\n",
    "else:\n",
    "    # Converte la colonna \"time\" in formato datetime\n",
    "    df[\"time\"] = pd.to_datetime(df[\"time\"])\n",
    "\n",
    "    df\n",
    "    print(df)\n",
    "\n",
    "    # Filtra solo i momenti in cui il valore è 4095 (utente a letto)\n",
    "    df_sleep = df[df[\"value\"] == 4095]\n",
    "\n",
    "    # Calcola la durata del sonno per ogni giorno\n",
    "    df_sleep[\"date\"] = df_sleep[\"time\"].dt.date  # Estrai la data senza orario\n",
    "    df_sleep[\"diff\"] = df_sleep[\"time\"].diff()   # Calcola la differenza tra i timestamp\n",
    "    df_sleep[\"sleep_period\"] = df_sleep[\"diff\"].dt.total_seconds() / 3600  # Converti in ore\n",
    "\n",
    "    # Somma le ore di sonno per ogni giorno\n",
    "    sleep_summary = df_sleep.groupby(\"date\")[\"sleep_period\"].sum().reset_index()\n",
    "    sleep_summary.rename(columns={\"sleep_period\": \"hours_slept\"}, inplace=True)\n",
    "\n"
   ]
  },
  {
   "cell_type": "code",
   "execution_count": 64,
   "metadata": {},
   "outputs": [
    {
     "data": {
      "text/markdown": [
       "| date       |   hours_slept |\n",
       "|:-----------|--------------:|\n",
       "| 2025-01-30 |    0.00351251 |"
      ],
      "text/plain": [
       "<IPython.core.display.Markdown object>"
      ]
     },
     "execution_count": 64,
     "metadata": {},
     "output_type": "execute_result"
    }
   ],
   "source": [
    "\n",
    "Markdown(sleep_summary.to_markdown(index=False))"
   ]
  }
 ],
 "metadata": {
  "kernelspec": {
   "display_name": "base",
   "language": "python",
   "name": "python3"
  },
  "language_info": {
   "codemirror_mode": {
    "name": "ipython",
    "version": 3
   },
   "file_extension": ".py",
   "mimetype": "text/x-python",
   "name": "python",
   "nbconvert_exporter": "python",
   "pygments_lexer": "ipython3",
   "version": "3.11.4"
  }
 },
 "nbformat": 4,
 "nbformat_minor": 2
}
