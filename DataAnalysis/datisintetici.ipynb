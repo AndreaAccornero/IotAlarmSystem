{
 "cells": [
  {
   "cell_type": "code",
   "execution_count": null,
   "metadata": {},
   "outputs": [],
   "source": [
    "import requests\n",
    "import time\n",
    "\n",
    "server_url = \"http://localhost:5000/sensor_data\"\n",
    "\n",
    "# Funzione per inviare dati sintetici alternando tra 2000 e 4095 ogni ora\n",
    "def send_synthetic_data():\n",
    "    while True:\n",
    "        # 1° ora: Valori 2000 a intervalli di 1 minuto\n",
    "        for _ in range(60):  # 60 minuti\n",
    "            payload = {\"pressure_value\": 2000}\n",
    "            response = requests.post(server_url, json=payload)\n",
    "            print(f\"Sent {payload}, Response: {response.status_code}\")\n",
    "            time.sleep(60)  # Aspetta 1 minuto\n",
    "        \n",
    "        # 2° ora: Valori 4095 a intervalli di 1 minuto\n",
    "        for _ in range(60):  # 60 minuti\n",
    "            payload = {\"pressure_value\": 4095}\n",
    "            response = requests.post(server_url, json=payload)\n",
    "            print(f\"Sent {payload}, Response: {response.status_code}\")\n",
    "            time.sleep(60)  # Aspetta 1 minuto\n",
    "\n",
    "# Invia i dati sintetici\n",
    "send_synthetic_data()\n"
   ]
  }
 ],
 "metadata": {
  "kernelspec": {
   "display_name": "base",
   "language": "python",
   "name": "python3"
  },
  "language_info": {
   "codemirror_mode": {
    "name": "ipython",
    "version": 3
   },
   "file_extension": ".py",
   "mimetype": "text/x-python",
   "name": "python",
   "nbconvert_exporter": "python",
   "pygments_lexer": "ipython3",
   "version": "3.11.4"
  }
 },
 "nbformat": 4,
 "nbformat_minor": 2
}
