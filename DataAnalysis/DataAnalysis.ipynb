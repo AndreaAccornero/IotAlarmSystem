{
 "cells": [
  {
   "cell_type": "code",
   "execution_count": 1,
   "metadata": {},
   "outputs": [
    {
     "name": "stderr",
     "output_type": "stream",
     "text": [
      "/Users/acco/anaconda3/lib/python3.11/site-packages/pandas/core/arrays/masked.py:60: UserWarning: Pandas requires version '1.3.6' or newer of 'bottleneck' (version '1.3.5' currently installed).\n",
      "  from pandas.core import (\n"
     ]
    }
   ],
   "source": [
    "from influxdb_client import InfluxDBClient\n",
    "import pandas as pd\n",
    "import os\n",
    "from IPython.display import Markdown\n",
    "import warnings\n",
    "\n",
    "warnings.filterwarnings(\"ignore\")\n",
    "\n",
    "# Configura la connessione a InfluxDB\n",
    "INFLUXDB_URL = \"http://localhost:8086\"\n",
    "TOKEN = os.getenv(\"token\")  # Assicurati che il token sia impostato correttamente\n",
    "ORG = \"IotAlarmSystem\"\n",
    "BUCKET = \"Prova\"\n",
    "\n",
    "client = InfluxDBClient(url=INFLUXDB_URL, token=TOKEN, org=ORG)\n",
    "query_api = client.query_api()\n",
    "\n",
    "# Query per recuperare i dati della pressione dall'ultima settimana\n",
    "query = f\"\"\"\n",
    "from(bucket: \"{BUCKET}\")\n",
    "|> range(start: -7d)\n",
    "|> filter(fn: (r) => r._measurement == \"pressure\")\n",
    "|> filter(fn: (r) => r._field == \"value\")\n",
    "|> keep(columns: [\"_time\", \"_value\"])\n",
    "\"\"\"\n",
    "\n",
    "result = query_api.query(query)\n",
    "data = []\n",
    "\n",
    "# Converti i risultati in un DataFrame\n",
    "for table in result:\n",
    "    for record in table.records:\n",
    "        data.append({\"time\": record[\"_time\"], \"value\": record[\"_value\"]})\n",
    "\n",
    "df = pd.DataFrame(data)\n",
    "\n",
    "\n",
    "df.to_csv(\"pressure.csv\", index=False)\n",
    "\n",
    "\n",
    "# Convertire la colonna \"time\" in formato datetime\n",
    "df[\"time\"] = pd.to_datetime(df[\"time\"])\n",
    "\n",
    "# Ordinare i dati per sicurezza\n",
    "df = df.sort_values(\"time\")\n",
    "\n",
    "\n",
    "\n"
   ]
  },
  {
   "cell_type": "code",
   "execution_count": 2,
   "metadata": {},
   "outputs": [
    {
     "data": {
      "text/plain": [
       "'3 ore, 48 minuti e 7 secondi'"
      ]
     },
     "execution_count": 2,
     "metadata": {},
     "output_type": "execute_result"
    }
   ],
   "source": [
    "def calculate_total_time(df, start_time=None, end_time=None):\n",
    "    \"\"\"\n",
    "    Funzione che prende in input un DataFrame con colonne 'time' e 'value',\n",
    "    e calcola il tempo totale (in ore, minuti e secondi) sommando il tempo tra i primi 4095\n",
    "    incontrati e il primo valore successivo diverso, all'interno di un periodo specificato.\n",
    "    \n",
    "    Se start_time e end_time non sono specificati, considera l'intero DataFrame.\n",
    "    \"\"\"\n",
    "    import pandas as pd\n",
    "\n",
    "    # Convertire la colonna 'time' in formato datetime con timezone\n",
    "    df['time'] = pd.to_datetime(df['time'])\n",
    "\n",
    "    # Se specificati, convertire start_time e end_time in datetime con timezone UTC\n",
    "    if start_time:\n",
    "        start_time = pd.to_datetime(start_time).tz_localize(\"UTC\")\n",
    "        df = df[df['time'] >= start_time]\n",
    "\n",
    "    if end_time:\n",
    "        end_time = pd.to_datetime(end_time).tz_localize(\"UTC\")\n",
    "        df = df[df['time'] <= end_time]\n",
    "\n",
    "    # Liste per salvare i tempi di transizione e gli indici\n",
    "    transitions = []\n",
    "    indices_4095 = []\n",
    "\n",
    "    i = 0\n",
    "    while i < len(df):\n",
    "        # Trovare il primo 4095 successivo\n",
    "        while i < len(df) and df.iloc[i]['value'] != 4095:\n",
    "            i += 1\n",
    "        if i >= len(df):\n",
    "            break\n",
    "\n",
    "        # Salvare l'indice del 4095 selezionato\n",
    "        start_index = df.index[i]  # Usare il vero indice del DataFrame\n",
    "        start_time = df.iloc[i]['time']\n",
    "\n",
    "        # Avanzare fino a trovare il primo valore diverso da 4095\n",
    "        while i < len(df) and df.iloc[i]['value'] == 4095:\n",
    "            i += 1\n",
    "        if i >= len(df):\n",
    "            break\n",
    "\n",
    "        # Ora siamo sul primo valore diverso da 4095\n",
    "        end_time = df.iloc[i]['time']\n",
    "        time_diff = (end_time - start_time).total_seconds()\n",
    "\n",
    "        # Salvare i risultati\n",
    "        transitions.append(round(time_diff, 2))\n",
    "        indices_4095.append(start_index)\n",
    "\n",
    "    # Sommare tutti i secondi arrotondati\n",
    "    total_seconds = sum(transitions)\n",
    "\n",
    "    # Convertire in ore, minuti e secondi\n",
    "    hours = int(total_seconds // 3600)\n",
    "    minutes = int((total_seconds % 3600) // 60)\n",
    "    seconds = int(total_seconds % 60)\n",
    "\n",
    "    return f\"{hours} ore, {minutes} minuti e {seconds} secondi\"\n",
    "\n",
    "# Eseguire la funzione con un periodo specificato\n",
    "final_result = calculate_total_time(df)\n",
    "\n",
    "final_result\n"
   ]
  },
  {
   "cell_type": "markdown",
   "metadata": {},
   "source": []
  },
  {
   "cell_type": "code",
   "execution_count": 3,
   "metadata": {},
   "outputs": [
    {
     "data": {
      "text/plain": [
       "'2 ore, 0 minuti e 1 secondi'"
      ]
     },
     "execution_count": 3,
     "metadata": {},
     "output_type": "execute_result"
    }
   ],
   "source": [
    "final_result = calculate_total_time(df, start_time=\"2025-02-01 22:42:38\", end_time=\"2025-03-01 20:40:38\")\n",
    "final_result"
   ]
  }
 ],
 "metadata": {
  "kernelspec": {
   "display_name": "base",
   "language": "python",
   "name": "python3"
  },
  "language_info": {
   "codemirror_mode": {
    "name": "ipython",
    "version": 3
   },
   "file_extension": ".py",
   "mimetype": "text/x-python",
   "name": "python",
   "nbconvert_exporter": "python",
   "pygments_lexer": "ipython3",
   "version": "3.11.4"
  }
 },
 "nbformat": 4,
 "nbformat_minor": 2
}
